{
 "cells": [
  {
   "cell_type": "code",
   "execution_count": 1,
   "id": "f3e8ed73-61cd-4007-925c-9ff8eff6c2bd",
   "metadata": {},
   "outputs": [],
   "source": [
    "import requests\n",
    "\n",
    "HEADERS = {\n",
    "    \"X-RapidAPI-Key\": \"67e277c289msh8d5cc9c18787256p1b027fjsnad69f0ac51a0\",\n",
    "    \"X-RapidAPI-Host\": \"cricbuzz-cricket.p.rapidapi.com\"\n",
    "}\n"
   ]
  },
  {
   "cell_type": "code",
   "execution_count": 2,
   "id": "d01812b8-973b-441e-aab1-cd038ebc4848",
   "metadata": {},
   "outputs": [
    {
     "name": "stdout",
     "output_type": "stream",
     "text": [
      "{'typeMatches': [{'matchType': 'League', 'seriesMatches': [{'seriesAdWrapper': {'seriesId': 10620, 'seriesName': 'Kerala Cricket League 2025', 'matches': [{'matchInfo': {'matchId': 130773, 'seriesId': 10620, 'seriesName': 'Kerala Cricket League 2025', 'matchDesc': '29th Match', 'matchFormat': 'T20', 'startDate': '1756976400000', 'endDate': '1756989000000', 'state': 'In Progress', 'status': 'Aries Kollam Sailors opt to bowl', 'team1': {'teamId': 2774, 'teamName': 'Alleppey Ripples', 'teamSName': 'ALPR', 'imageId': 731735}, 'team2': {'teamId': 2778, 'teamName': 'Aries Kollam Sailors', 'teamSName': 'AKS', 'imageId': 731731}, 'venueInfo': {'id': 506, 'ground': 'Greenfield International Stadium', 'city': 'Thiruvananthapuram', 'timezone': '+05:30', 'latitude': '8.570806', 'longitude': '76.884328'}, 'currBatTeamId': 2774, 'seriesStartDt': '1755648000000', 'seriesEndDt': '1757203200000', 'isTimeAnnounced': True, 'stateTitle': 'In Progress'}, 'matchScore': {'team1Score': {'inngs1': {'inningsId': 1, 'runs': 130, 'wickets': 6, 'overs': 17.5}}}}]}}]}, {'matchType': 'Domestic', 'seriesMatches': [{'seriesAdWrapper': {'seriesId': 10311, 'seriesName': 'Duleep Trophy 2025', 'matches': [{'matchInfo': {'matchId': 123672, 'seriesId': 10311, 'seriesName': 'Duleep Trophy 2025', 'matchDesc': '1st Semi-Final', 'matchFormat': 'TEST', 'startDate': '1756958400000', 'endDate': '1757242800000', 'state': 'In Progress', 'status': 'Day 1: 3rd Session', 'team1': {'teamId': 236, 'teamName': 'South Zone', 'teamSName': 'SZONE', 'imageId': 172289}, 'team2': {'teamId': 233, 'teamName': 'North Zone', 'teamSName': 'NZONE', 'imageId': 172286}, 'venueInfo': {'id': 1438087, 'ground': 'BCCI Centre of Excellence Ground', 'city': 'Bengaluru', 'timezone': '+05:30', 'latitude': '12.978853', 'longitude': '77.599533'}, 'currBatTeamId': 236, 'seriesStartDt': '1756252800000', 'seriesEndDt': '1757980800000', 'isTimeAnnounced': True, 'stateTitle': 'In Progress'}, 'matchScore': {'team1Score': {'inngs1': {'inningsId': 1, 'runs': 231, 'wickets': 2, 'overs': 59.2}}}}, {'matchInfo': {'matchId': 123677, 'seriesId': 10311, 'seriesName': 'Duleep Trophy 2025', 'matchDesc': '2nd Semi-Final', 'matchFormat': 'TEST', 'startDate': '1756958400000', 'endDate': '1757242800000', 'state': 'In Progress', 'status': 'Day 1: 3rd Session', 'team1': {'teamId': 234, 'teamName': 'West Zone', 'teamSName': 'WZONE', 'imageId': 172287}, 'team2': {'teamId': 237, 'teamName': 'Central Zone', 'teamSName': 'CZONE', 'imageId': 172290}, 'venueInfo': {'id': 1438102, 'ground': 'BCCI Centre of Excellence Ground B', 'city': 'Bengaluru', 'timezone': '+05:30', 'latitude': '13.174092', 'longitude': '77.706999'}, 'currBatTeamId': 234, 'seriesStartDt': '1756252800000', 'seriesEndDt': '1757980800000', 'isTimeAnnounced': True, 'stateTitle': 'In Progress'}, 'matchScore': {'team1Score': {'inngs1': {'inningsId': 1, 'runs': 237, 'wickets': 5, 'overs': 57.6}}}}]}}]}, {'matchType': 'Women', 'seriesMatches': [{'seriesAdWrapper': {'seriesId': 10851, 'seriesName': 'Womens ICC T20 Tri-Series 2025', 'matches': [{'matchInfo': {'matchId': 133792, 'seriesId': 10851, 'seriesName': 'Womens ICC T20 Tri-Series 2025', 'matchDesc': '7th Match', 'matchFormat': 'T20', 'startDate': '1756978200000', 'endDate': '1756990800000', 'state': 'Toss', 'status': 'Jersey Women opt to bowl', 'team1': {'teamId': 1032, 'teamName': 'Jersey Women', 'teamSName': 'JERW', 'imageId': 248421}, 'team2': {'teamId': 491, 'teamName': 'Brazil Women', 'teamSName': 'BRAW', 'imageId': 172539}, 'venueInfo': {'id': 1438153, 'ground': 'New Farnley Cricket Club', 'city': 'Leeds', 'timezone': '+01:00', 'latitude': '53.77646', 'longitude': '-1.6235'}, 'isTournament': True, 'seriesStartDt': '1756512000000', 'seriesEndDt': '1757030400000', 'isTimeAnnounced': True, 'stateTitle': 'Toss'}}]}}]}], 'filters': {'matchType': ['International', 'League', 'Domestic', 'Women']}, 'appIndex': {'seoTitle': 'Live Cricket Score - Scorecard and Match Results', 'webURL': 'www.cricbuzz.com/live-cricket-scores/'}, 'responseLastUpdated': '1756981397'}\n"
     ]
    }
   ],
   "source": [
    "def get_live_matches():\n",
    "    url = \"https://cricbuzz-cricket.p.rapidapi.com/matches/v1/live\"\n",
    "    response = requests.get(url, headers=HEADERS)\n",
    "    return response.json()\n",
    "\n",
    "live_matches = get_live_matches()\n",
    "print(live_matches)"
   ]
  },
  {
   "cell_type": "code",
   "execution_count": 3,
   "id": "3422e3fd-162b-4390-aec1-19e77f36308e",
   "metadata": {},
   "outputs": [
    {
     "name": "stdout",
     "output_type": "stream",
     "text": [
      "{'player': [{'id': '1413', 'name': 'Virat Kohli', 'teamName': 'India', 'faceImageId': '616517', 'dob': '1988-11-05'}], 'category': 'Virat Kohli'}\n"
     ]
    }
   ],
   "source": [
    "def search_player(name):\n",
    "    url = f\"https://cricbuzz-cricket.p.rapidapi.com/stats/v1/player/search?plrN={name}\"\n",
    "    response = requests.get(url, headers=HEADERS)\n",
    "    return response.json()\n",
    "\n",
    "player = search_player(\"Virat Kohli\")\n",
    "print(player)"
   ]
  },
  {
   "cell_type": "code",
   "execution_count": 5,
   "id": "f5d333ef-899f-4bc5-9302-2cba443f3b6a",
   "metadata": {},
   "outputs": [
    {
     "name": "stdout",
     "output_type": "stream",
     "text": [
      "Status: 200\n",
      "Raw response: {\"id\":\"1413\",\"bat\":\"Right Handed Bat\",\"bowl\":\"Right-arm medium\",\"name\":\"Virat Kohli\",\"nickName\":\"Kohli\",\"height\":\"5 ft 9 in (175 cm) \",\"role\":\"Batsman\",\"birthPlace\":\"Delhi\",\"intlTeam\":\"India\",\"teams\":\n",
      "{'id': '1413', 'bat': 'Right Handed Bat', 'bowl': 'Right-arm medium', 'name': 'Virat Kohli', 'nickName': 'Kohli', 'height': '5 ft 9 in (175 cm) ', 'role': 'Batsman', 'birthPlace': 'Delhi', 'intlTeam': 'India', 'teams': 'India, Delhi, India Red, India U19, Royal Challengers Bengaluru, Board Presidents XI, North Zone, Indians, India A, Asia XI', 'DoB': 'November 05, 1988 (36 years)', 'image': 'http://i.cricketcb.com/stats/img/faceImages/1413.jpg', 'bio': \"A spunky, chubby teenager with gelled hair shot to fame after leading India to glory in the Under-19 World Cup at Kuala Lumpur in early 2008. In an Indian team filled with saint-like icons worthy of their own hagiographies, Virat Kohli, with his most un-Indian, 'bad-boy' intensity, would clearly be an outcast.  <br/>  <br/> <b>Grind through the ranks</b> <br/>  <br/> He soon joined the senior Men in Blue in Sri Lanka, come August 2008. In the absence of the regular openers, Virat Kohli was given a chance to open the batting in the ODI series. He played some commendable knocks in his extended run as an opener, as India went on to win the ODI series. However, the established and formidable pair of Tendulkar and Sehwag kept Kohli out of the team  <br/>  <br/> The 20-year-old continued to impress for Delhi and dominated attacks, clearly demonstrating that he belonged at a much higher level; that junior cricket was beneath his standards. Kohli then traveled to Australia in 2009 for the Emerging players tournament and stamped his authority all over the bowling attacks. He added 'big-match temperament' to his résumé too, lacing a fluent hundred in the final against South Africa, and guiding his team to a clinical victory. The young prodigy, barely old enough to receive his man-of-the-match champagne, ended the tournament with 398 runs from 7 outings with two centuries and two fifties, ensuring that he remained fresh in the selectors' minds.  <br/>  <br/> <b>Cementing a national spot</b> <br/>  <br/> The selectors had no choice but to give Kohli another go in the Indian side, and this time he strung together a number of impressive scores. After being given an extended run, he repaid their faith by notching up his maiden ODI hundred in an impressive run-chase against Sri Lanka in December 2009 - his first of many exemplary knocks in run-chases. In the World Cup final of 2011, the biggest stage of them all, Kohli, along with his Delhi teammate Gautam Gambhir, pulled off a largely underrated rescue effort with an 83-run stand after losing the openers early. This knock played a crucial role in setting the platform for MS Dhoni's fabled knock of 91*, which eventually won India the World Cup on that enchanting evening in Mumbai.  <br/>  <br/> In the hangover of the World Cup euphoria, Kohli continued to take giant strides in the limited-overs format. Three years after his ODI debut, he was finally handed the coveted Test cap in the Caribbean islands in July 2011, owing to the need to rest the senior players. After a series each against the Dukes ball and the SG ball, it was now time for his trial against the Kookaburra Down Under. In the first two Tests, he seemed to lack the technique to play in Australia, maintaining his low stance on the bouncy tracks. He also had a rather restricting trigger movement with his front-foot routinely coming across towards off-stump, thereby hindering the necessary movement to play back-foot shots such as the pull and the cut.  <br/>  <br/> <b>A baptism by fire Down Under</b> <br/>  <br/> The selectors and the captain persisted with him going into the 3rd Test, and he delivered a break-through performance on a bouncy Perth wicket - an impressive 75 - where a visible change in technique was visible. He managed to stand tall, with a more open stance, and exhibited the back-foot shots in his repertoire during the course of the innings. The volatile Kohli managed to overshadow his impropriety in conduct with his performance in the final Test of the series. Notching up India's only century of a disastrous tour, Kohli was the shining light in amidst the chaos, as he stroked his way to a hundred in Adelaide exhibiting the will to improve and extraordinary focus under pressure in the searing heat and pressure of Australia. <br/>  <br/> While he grappled and clawed his way into the Test side, he went on a record-breaking spree in ODIs: the Indian record for the fastest to multiples-of-thousand runs in ODIs, culminating in the world record for the fastest to 9000 runs in ODIs. He was also the highest run-scorer for India in ODIs for three consecutive calendar years - 2010, 2011 and 2012 and won the ICC ODI cricketer of the year award in 2012.  <br/>  <br/> <b>That break-through innings…</b> <br/>  <br/> We remember the accolades, but where did it all begin? There's always the one innings that made the world sit up and take notice; the 86-ball knock which he started off as a brash boy, but ended as a man. Chasing an improbable target of 321 off 40 overs to stay alive in the tournament, he laid into the Sri Lankan bowlers and carted his way to 133*, getting India home with more than 2 overs to spare, practically pulling them out of the airport after M.S. Dhoni rather ignorantly remarked that India had already been eliminated from the tournament.  <br/>  <br/> King Kohli had arrived. The king of the run-chase, and a plethora of ODI records in the modern age. <br/>  <br/> <b>Batting technique and idiosyncrasies</b> <br/>  <br/> Kohli has a seemingly hot head on his shoulders, but he channels all his anger while he is batting. Known to be an aggressive batsman always on the lookout for runs, he has a fairly sound , albeit slightly unconventional technique, which makes him judge the length of the ball earlier than most, and amazingly quick wrists to run his hands through the ball, even against fast bowlers. He is equally adept against pace and spin, and never looks ungainly at the crease. With nimble foot-movement against the spinners, he is known to be quite destructive when the situation demands it. He has had to fill some rather big shoes of his predecessors, and has done an admirable job to say the least.  <br/>  <br/> <b>Captaincy and a change in technique</b> <br/>  <br/> With regular captain MS Dhoni ailing from an injury, Kohli was named stand-in captain for the first Test at Adelaide. After an abysmal tour of England, critics were sceptical of Kohli's performance in Australia in the Border-Gavaskar trophy in December. Kohli proved that they couldn't have been more wrong, as he scored two fluent hundreds in the first Test at Adelaide. His second innings masterclass of 141 almost pulled off a stunning run-chase on a notorious 5th day rank-turner, and went on to score a total of four hundreds on this tour. Saying that he had silenced critics would be an understatement. <br/>  <br/> As India prepared for their title defence ahead of the 2015 World Cup Down Under, with the catch phrase 'Won't give it back' doing the rounds, Virat Kohli was touted to be a key performer for India. The Indians had a terrible run in Australia, having failed to win a single match in the Test series as well as the succeeding ODI tri-series. Kohli started off in signature fashion, with a typically stroke-filled hundred against Pakistan as India maintained their unbeaten run against their arch-rivals in ICC events. As India stormed into the semi-finals unbeaten, Kohli's form continued to take an uncharacteristic dip, culminating in a painstaking 1 in the semi-final loss against the co-hosts and eventual champions, Australia.  <br/>  <br/> Kohli, the then full-time Test captain, toured Sri Lanka with a young side without the services of Mahendra Singh Dhoni, wary of the Sri Lankan spinners' fabled 4th innings con-job. After losing the first Test, Kohli's India recorded a dramatic come-from-behind win in the series, going on to win 2-1. Kohli continued to build on his auspicious start to Test captaincy as he led them to a rout of the South Africans on a series of rank-turners all around India. He had a quiet series with the bat, as the more stoic batsmen of his team took over. Nonetheless, the triumph took India to the No. 1 spot in the ICC Test rankings for the first time since they forfeited it to England after the forgettable white-wash in 2011.  <br/>  <br/> He continued his emphatic run in T20 cricket (and running) like a man possessed though, thrashing boundaries with ridiculous ease. Despite an 89* in the 2016  semi-final against the West Indies (extending his inhuman run of form in the format), India's bowling panicked at a crucial stage. One had to feel sorry for him as he had to make do with the 'Player of the tournament' award for the second successive Twenty20 World Cup; a distinction he would've gladly exchanged for the elusive World T20 trophy. Kohli's thirst for runs showed no signs of slowing down as he looted a small matter of 973 runs during the 2016 edition of the Indian Premier League, the most (by far) by any batsman in the history of the tournament - as he led his Royal Challengers Bangalore (RCB) franchise to a runners-up finish.  <br/>  <br/> However, it isn't beyond Kohli to prove his critics wrong yet again, as he continues to take criticism on his stride, setting new standards for modern batsmanship. And as a captain, he had his ups and downs, marred with a bit of controversy towards the end of his tenure. Kohli also became the first Indian, as well as the first Asian captain, to return victorious from Down Under when India won the 4-match Test series 2-1 (2018-19). Under Kohli, India also emerged as the number one Test side for five successive years (2016-2021). <br/>  <br/> <b>The final frontier</b> <br/>  <br/> In the first week of 2018, Kohli went on to lead India in South Africa, a few weeks after he tied the knot with Indian actress and long-time girlfriend, Anushka Sharma. India went on to concede the series in the first two Tests, but came back to win the third Test match on a difficult wicket. In a series full of difficult wickets, Kohli exhibited tighter technique than he had in England, and batted better than he did in his more prolific tour of South Africa in 2013/14. Kohli went on to conquer his (personal) final frontier in England later in 2018 too, scoring 593 runs in 10 innings, including 2 hundreds, and not conceding his wicket to his fabled nemesis, Anderson, even once. India went on to lose the series 1-4, and Kohli's record as captain was tainted by two consecutive Test series losses away.  <br/>  <br/> Nevertheless, on a personal level, he had left no stone unturned to transform himself into the most consistent and versatile batsman of his age, and arguably the better of the Big Four. In October 2018, during the second of 3 consecutive hundreds against the West Indies in ODIs, he went on to become the fastest batsmen to reach the 10,000-run mark in ODIs, trouncing Sachin Tendulkar by a staggering 54 innings. Despite arguments about the two new balls, better bats, batting-friendly conditions, and more lethal bowlers, it was difficult to deny that this was a statistical outlier, very much along the lines of 99.94 - perhaps unlikely to ever be trounced.   <br/>  <br/> However, being a cricket romantic (as we all are), as we reflect on his prolific international career (and with a plethora of records to be broken over the next decade) one must look back at the CB series knock that changed it all. On that fateful night at Hobart, Kohli had not only kept his team in contention, he had actually dragged a drained Indian side out of the airport. That night, at the Bellerive Oval, Virat Kohli transcended into a league of his own to etch his name in history - and a cricketing superstar was born. <br/>  <br/> <b>A slump in form</b> <br/> In 2020 came the pandemic, and along with that an unexpected slump in form for Virat Kohli. He has a poor IPL season in 2020 and 2021, and his International records also weren’t very flattering. From April 2019 to September, 2022, Virat Kohli didn’t score a single International century. He seemed to be faltering against spin, particularly in home Test matches and has often spoken publicly about this being the lowest phase of his life.  <br/>  <br/> In this same phase, Virat Kohli stepped down as the T20I captain after the 2021 World Cup, where India suffered a group stage exit. He has asked to relinquish the ODI captaincy as well, with Rohit Sharma being named as his successor. A few months later, after a series defeat away to South Africa, Virat Kohli decided to step down as Test captain as well, with Rohit Sharma being named as his successor once again.  <br/>  <br/> <b>The redemption arc</b> <br/> Form is temporary, class is permanent. While there were a few murmured calls to drop Kohli during this challenging phase, he kept his place in the Indian team across formats and eventually silenced his critics. In September, 2022, Virat Kohli finally broke his four year jinx and got a century against Afghanistan in the Asia Cup. He carried that form into the 2022 T20 World Cup, where he played an unreal knock in the group stages against Pakistan, giving India an unlikely win over their rivals, glamourised by that straight six off Haris Rauf’s bowling. While India lost in the semi-finals, Kohli ended the tournament as India’s leading run scorer.  <br/>  <br/> Kohli carried that form onto the next year as well, where he played a few match winning knocks against Australia and South Africa in the build-up to the 2023 ODI World Cup. He also scored a century against Pakistan in the Asia Cup as India picked up a formidable win. Kohli elevated his game once again at that World Cup, as he got centuries against Bangladesh and South Africa in the group stages, to add to four fifties as well.  <br/>  <br/> In the semi-final against New Zealand, Kohli overtook Sachin Tendulkar as he became the first player in history to score 50 ODI hundreds. India lost out to Australia in the final, but Kohli was named player of the tournament for his incredible performances that saw him score 765 runs at an average of 95.63.  <br/>  <br/> Post the World Cup defeat, Kohli took a bit of a break from the game for personal reasons. However, he came roaring back in the 2024 IPL as he ended with the Orange Cap. Owing to his form, he was expected to be India’s marquee man at the 2024 T20 World Cup, which started a couple of weeks after the culmination of the IPL.  <br/>  <br/> Kohli though surprisingly struggled through the group stages of that tournament, as he failed to register even a single fifty. However, he had saved his best for the big occasion as he stepped up in the final against South Africa, top scoring for India with 76. His efforts ensured that India won a thrilling final, ending a 11 year trophy jinx. After that World Cup triumph, Virat Kohli announced his retirement from T20I cricket.  <br/>  <br/> Virat Kohli faced a bit of a slump once again post the World Cup success, as he had an underwhelming ODI tour to Sri Lanka, and struggled in the home Tests against New Zealand as well, as India suffered a 3-0 whitewash at the hands of the Kiwis. Next up after that debilitating series loss was a tour to Australia, where Kohli showed his mantle once again with a sensational century at Perth, as India won the first Test.  <br/>  <br/> Unfortunately, Kohli and the rest of the team struggled post that Test, as India went down 3-1 against Australia, ending their chances of qualifying for the Test championship final.  <br/>  <br/> After this disappointment Down Under, India turned their attention towards the 2025 Champions Trophy. Kohli found his mojo once again in his most preferred ODI format, as he scored a century against Pakistan and a fifty against Australia as India claimed a second ICC trophy in a span of 9 months.  <br/>  <br/> In May, 2025, Virat Kohli unexpectedly announced his retirement from Test cricket, following suit from teammate Rohit Sharma who decided to step down a few days earlier. Kohli drew the curtains on an illustrious Test career that saw his score 9230 runs at an average of 46.85.  <br/>  <br/>  <br/> <b>IPL through the years</b> <br/>  <br/> Ahead of the 2019 edition of the Indian Premier League (IPL), Virat Kohli showed how much faith he had in the franchise by declaring that he would perhaps end his career with the Bangalore-based Royal Challengers. The only player to be a part of a single franchise for the entire duration of the tournament (right from the start of the cash-rich league in 2008), Kohli has developed an affection with the franchise and with the fans over the period of time.  <br/>  <br/> Having been brought into the franchise as a young emerging player in 2008, Kohli's growth has been stupendous. He learnt under the wings of Rahul Dravid and Anil Kumble, before finally establishing himself under Daniel Vettori. It wasn't a free-flowing start, in a team that was struggling to find the essence of the tournament, it wasn't a surprise that they had a struggling youngster in the midst. Having learnt the ropes in the first three-year cycle, it wasn't a surprise that he was the only player retained in 2011. The purple patch began somewhere around that region, he then proved it wasn't just a purple patch, it was a career that was beginning to flourish. Soon after, Kohli became the best in all aspects, not just white-ball cricket, but in the red-ball version as well. <br/>  <br/> It became a no-brainer when he was asked to captain the Bangalore franchise on a permanent basis from 2012 and it also translated into more consistency with the bat. Kohli soon turned into a fan favourite even as runs flowed from his bat and eventually becoming the leading-run scorer in the history of IPL. Circa, 2016 - the India and RCB captain blasted 973 runs - the most by any player in the history of the game and it included four hundreds - the most by a batsman in a single edition.  Alas, all this didn't translate into a title triumph - one that has kept Kohli and Bangalore waiting so far (As of March 2023). <br/>  <br/> Written by <b>Rishi Roy</b>\", 'rankings': {'bat': {'odiRank': '4', 'testBestRank': '1', 'odiBestRank': '1', 't20BestRank': '1'}, 'bowl': {'t20BestRank': '89'}, 'all': {'t20BestRank': '10'}}, 'appIndex': {'seoTitle': 'Virat Kohli Profile - Cricbuzz | Cricbuzz.com', 'webURL': 'http://www.cricbuzz.com/profiles/1413/virat-kohli'}, 'DoBFormat': 'November 05, 1988', 'faceImageId': 616517, 'teamNameIds': [{'teamId': '2', 'teamName': 'India'}, {'teamId': '81', 'teamName': 'Delhi'}, {'teamId': '21', 'teamName': 'India Red'}, {'teamId': '54', 'teamName': 'India U19'}, {'teamId': '59', 'teamName': 'Royal Challengers Bengaluru'}, {'teamId': '86', 'teamName': 'Board Presidents XI'}, {'teamId': '233', 'teamName': 'North Zone'}, {'teamId': '276', 'teamName': 'Indians'}, {'teamId': '78', 'teamName': 'India A'}, {'teamId': '37', 'teamName': 'Asia XI'}], 'playerTeamIds': '2, 81, 21, 54, 59, 86, 233, 276, 78, 37'}\n"
     ]
    }
   ],
   "source": [
    "def get_player_stats(player_id):\n",
    "    url = f\"https://cricbuzz-cricket.p.rapidapi.com/stats/v1/player/{player_id}\"\n",
    "    response = requests.get(url, headers=HEADERS)\n",
    "\n",
    "    # Debugging: check if API gave a valid response\n",
    "    print(\"Status:\", response.status_code)\n",
    "    print(\"Raw response:\", response.text[:200])  # first 200 chars\n",
    "\n",
    "    try:\n",
    "        return response.json()\n",
    "    except Exception as e:\n",
    "        print(\"Error parsing JSON:\", e)\n",
    "        return None\n",
    "\n",
    "# Use the correct player id from search_player()\n",
    "stats = get_player_stats(\"1413\")   # Virat Kohli ID\n",
    "print(stats)\n"
   ]
  },
  {
   "cell_type": "code",
   "execution_count": 6,
   "id": "28aa92f7-d281-4729-a208-529d00796dba",
   "metadata": {},
   "outputs": [
    {
     "name": "stdout",
     "output_type": "stream",
     "text": [
      "{'seriesMapProto': [{'date': 'FEBRUARY 2024', 'series': [{'id': 7572, 'name': 'ICC Cricket World Cup League Two 2023-27', 'startDt': '1707955200000', 'endDt': '1806364800000'}]}, {'date': 'AUGUST 2025', 'series': [{'id': 10267, 'name': 'Sri Lanka tour of Zimbabwe, 2025', 'startDt': '1756425600000', 'endDt': '1757203200000'}, {'id': 10642, 'name': 'United Arab Emirates T20I Tri-Series 2025', 'startDt': '1756425600000', 'endDt': '1757203200000'}, {'id': 10647, 'name': 'Netherlands tour of Bangladesh 2025', 'startDt': '1756512000000', 'endDt': '1756857600000'}]}, {'date': 'SEPTEMBER 2025', 'series': [{'id': 8788, 'name': 'South Africa tour of England, 2025', 'startDt': '1756771200000', 'endDt': '1757808000000'}, {'id': 10812, 'name': 'Sweden tour of Isle Of Man 2025', 'startDt': '1757116800000', 'endDt': '1757203200000'}, {'id': 10587, 'name': 'Asia Cup 2025', 'startDt': '1757376000000', 'endDt': '1759017600000'}, {'id': 8802, 'name': 'England tour of Ireland, 2025', 'startDt': '1758067200000', 'endDt': '1758412800000'}, {'id': 10091, 'name': 'West Indies vs Nepal in UAE, 2025', 'startDt': '1758931200000', 'endDt': '1759190400000'}, {'id': 10201, 'name': 'Australia tour of New Zealand, 2025', 'startDt': '1759276800000', 'endDt': '1759536000000'}]}, {'date': 'OCTOBER 2025', 'series': [{'id': 9629, 'name': 'West Indies tour of India, 2025', 'startDt': '1759363200000', 'endDt': '1760400000000'}, {'id': 10840, 'name': 'Afghanistan vs Bangladesh in UAE 2025', 'startDt': '1759363200000', 'endDt': '1760400000000'}, {'id': 10625, 'name': 'ICC Mens T20 World Cup East Asia Pacific Qualifier 2025', 'startDt': '1759881600000', 'endDt': '1760659200000'}, {'id': 10504, 'name': 'South Africa tour of Namibia 2025', 'startDt': '1760140800000', 'endDt': '1760140800000'}, {'id': 10212, 'name': 'England tour of New Zealand, 2025', 'startDt': '1760745600000', 'endDt': '1761955200000'}, {'id': 9596, 'name': 'India tour of Australia, 2025', 'startDt': '1760832000000', 'endDt': '1762560000000'}]}, {'date': 'NOVEMBER 2025', 'series': [{'id': 10223, 'name': 'West Indies tour of New Zealand, 2025', 'startDt': '1762300800000', 'endDt': '1766361600000'}, {'id': 9638, 'name': 'South Africa tour of India, 2025', 'startDt': '1763078400000', 'endDt': '1766102400000'}, {'id': 9107, 'name': 'The Ashes, 2025-26', 'startDt': '1763683200000', 'endDt': '1767830400000'}]}, {'date': 'JANUARY 2026', 'series': [{'id': 10102, 'name': 'New Zealand tour of India, 2026', 'startDt': '1768089600000', 'endDt': '1769817600000'}, {'id': 10774, 'name': 'England tour of Sri Lanka 2026', 'startDt': '1769040000000', 'endDt': '1770076800000'}, {'id': 9551, 'name': 'West Indies tour of South Africa, 2026', 'startDt': '1769472000000', 'endDt': '1770336000000'}]}, {'date': 'MARCH 2026', 'series': [{'id': 10234, 'name': 'South Africa tour of New Zealand, 2026', 'startDt': '1773532800000', 'endDt': '1774396800000'}]}, {'date': 'JUNE 2026', 'series': [{'id': 10559, 'name': 'New Zealand tour of England, 2026', 'startDt': '1780531200000', 'endDt': '1782691200000'}, {'id': 10532, 'name': 'India tour of England, 2026', 'startDt': '1782864000000', 'endDt': '1784419200000'}]}, {'date': 'AUGUST 2026', 'series': [{'id': 10565, 'name': 'Pakistan tour of England 2026', 'startDt': '1787097600000', 'endDt': '1788912000000'}]}, {'date': 'SEPTEMBER 2026', 'series': [{'id': 10576, 'name': 'Sri Lanka tour of England, 2026', 'startDt': '1789430400000', 'endDt': '1790467200000'}]}], 'appIndex': {'seoTitle': 'Current Running Cricket Series - Cricbuzz | Cricbuzz.com', 'webURL': 'www.cricbuzz.com/cricket-series/'}}\n"
     ]
    }
   ],
   "source": [
    "def get_series():\n",
    "    url = \"https://cricbuzz-cricket.p.rapidapi.com/series/v1/international\"\n",
    "    response = requests.get(url, headers=HEADERS)\n",
    "    return response.json()\n",
    "\n",
    "series = get_series()\n",
    "print(series)\n",
    "\n"
   ]
  },
  {
   "cell_type": "code",
   "execution_count": 35,
   "id": "fe5beb53-7264-45d0-bd3a-8a3e3da66d21",
   "metadata": {},
   "outputs": [
    {
     "name": "stdout",
     "output_type": "stream",
     "text": [
      "{'seriesMapProto': [{'date': 'FEBRUARY 2024', 'series': [{'id': 7572, 'name': 'ICC Cricket World Cup League Two 2023-27', 'startDt': '1707955200000', 'endDt': '1806364800000'}]}, {'date': 'AUGUST 2025', 'series': [{'id': 9686, 'name': 'India tour of Bangladesh, 2025 (Called off)', 'startDt': '1755388800000', 'endDt': '1756598400000'}, {'id': 10790, 'name': 'Eastern Europe Cup 2025', 'startDt': '1756425600000', 'endDt': '1756598400000'}, {'id': 10267, 'name': 'Sri Lanka tour of Zimbabwe, 2025', 'startDt': '1756425600000', 'endDt': '1757203200000'}, {'id': 10642, 'name': 'United Arab Emirates T20I Tri-Series 2025', 'startDt': '1756425600000', 'endDt': '1757203200000'}, {'id': 10801, 'name': 'Switzerland tour of Guernsey, 2025', 'startDt': '1756512000000', 'endDt': '1756598400000'}, {'id': 10647, 'name': 'Netherlands tour of Bangladesh 2025', 'startDt': '1756512000000', 'endDt': '1756857600000'}]}, {'date': 'SEPTEMBER 2025', 'series': [{'id': 8788, 'name': 'South Africa tour of England, 2025', 'startDt': '1756771200000', 'endDt': '1757808000000'}, {'id': 10812, 'name': 'Sweden tour of Isle Of Man 2025', 'startDt': '1757116800000', 'endDt': '1757203200000'}, {'id': 10587, 'name': 'Asia Cup 2025', 'startDt': '1757376000000', 'endDt': '1759017600000'}, {'id': 8802, 'name': 'England tour of Ireland, 2025', 'startDt': '1758067200000', 'endDt': '1758412800000'}, {'id': 10091, 'name': 'West Indies vs Nepal in UAE, 2025', 'startDt': '1758931200000', 'endDt': '1759190400000'}, {'id': 10201, 'name': 'Australia tour of New Zealand, 2025', 'startDt': '1759276800000', 'endDt': '1759536000000'}]}, {'date': 'OCTOBER 2025', 'series': [{'id': 9629, 'name': 'West Indies tour of India, 2025', 'startDt': '1759363200000', 'endDt': '1760400000000'}, {'id': 10840, 'name': 'Afghanistan vs Bangladesh in UAE 2025', 'startDt': '1759363200000', 'endDt': '1760400000000'}, {'id': 10625, 'name': 'ICC Mens T20 World Cup East Asia Pacific Qualifier 2025', 'startDt': '1759881600000', 'endDt': '1760659200000'}, {'id': 10504, 'name': 'South Africa tour of Namibia 2025', 'startDt': '1760140800000', 'endDt': '1760140800000'}, {'id': 10212, 'name': 'England tour of New Zealand, 2025', 'startDt': '1760745600000', 'endDt': '1761955200000'}, {'id': 9596, 'name': 'India tour of Australia, 2025', 'startDt': '1760832000000', 'endDt': '1762560000000'}]}, {'date': 'NOVEMBER 2025', 'series': [{'id': 10223, 'name': 'West Indies tour of New Zealand, 2025', 'startDt': '1762300800000', 'endDt': '1766361600000'}, {'id': 9638, 'name': 'South Africa tour of India, 2025', 'startDt': '1763078400000', 'endDt': '1766102400000'}, {'id': 9107, 'name': 'The Ashes, 2025-26', 'startDt': '1763683200000', 'endDt': '1767830400000'}]}, {'date': 'JANUARY 2026', 'series': [{'id': 10102, 'name': 'New Zealand tour of India, 2026', 'startDt': '1768089600000', 'endDt': '1769817600000'}, {'id': 10774, 'name': 'England tour of Sri Lanka 2026', 'startDt': '1769040000000', 'endDt': '1770076800000'}, {'id': 9551, 'name': 'West Indies tour of South Africa, 2026', 'startDt': '1769472000000', 'endDt': '1770336000000'}]}, {'date': 'MARCH 2026', 'series': [{'id': 10234, 'name': 'South Africa tour of New Zealand, 2026', 'startDt': '1773532800000', 'endDt': '1774396800000'}]}, {'date': 'JUNE 2026', 'series': [{'id': 10559, 'name': 'New Zealand tour of England, 2026', 'startDt': '1780531200000', 'endDt': '1782691200000'}, {'id': 10532, 'name': 'India tour of England, 2026', 'startDt': '1782864000000', 'endDt': '1784419200000'}]}, {'date': 'AUGUST 2026', 'series': [{'id': 10565, 'name': 'Pakistan tour of England 2026', 'startDt': '1787097600000', 'endDt': '1788912000000'}]}, {'date': 'SEPTEMBER 2026', 'series': [{'id': 10576, 'name': 'Sri Lanka tour of England, 2026', 'startDt': '1789430400000', 'endDt': '1790467200000'}]}], 'appIndex': {'seoTitle': 'Current Running Cricket Series - Cricbuzz | Cricbuzz.com', 'webURL': 'www.cricbuzz.com/cricket-series/'}}\n"
     ]
    }
   ],
   "source": [
    "def fetch_series():\n",
    "    url = \"https://cricbuzz-cricket.p.rapidapi.com/series/v1/international\"\n",
    "    response = requests.get(url, headers=HEADERS)\n",
    "    return response.json()\n",
    "\n",
    "series_data = fetch_series()\n",
    "print(series_data)\n"
   ]
  },
  {
   "cell_type": "code",
   "execution_count": 7,
   "id": "9c53842e-3cac-489b-bd14-7ec260958909",
   "metadata": {},
   "outputs": [
    {
     "name": "stdout",
     "output_type": "stream",
     "text": [
      "Matplotlib working!\n"
     ]
    }
   ],
   "source": [
    "import matplotlib.pyplot as plt\n",
    "print(\"Matplotlib working!\")\n",
    "\n"
   ]
  },
  {
   "cell_type": "code",
   "execution_count": 14,
   "id": "19362aea-19ff-4629-aaee-ebf80edcf9ba",
   "metadata": {},
   "outputs": [
    {
     "ename": "ImportError",
     "evalue": "cannot import name 'fetch_live_matches' from 'streamlit_app.utils' (E:\\cricbuzz_livestats\\streamlit_app\\utils.py)",
     "output_type": "error",
     "traceback": [
      "\u001b[1;31m---------------------------------------------------------------------------\u001b[0m",
      "\u001b[1;31mImportError\u001b[0m                               Traceback (most recent call last)",
      "Cell \u001b[1;32mIn[14], line 2\u001b[0m\n\u001b[0;32m      1\u001b[0m \u001b[38;5;28;01mimport\u001b[39;00m\u001b[38;5;250m \u001b[39m\u001b[38;5;21;01mrequests\u001b[39;00m\n\u001b[1;32m----> 2\u001b[0m \u001b[38;5;28;01mfrom\u001b[39;00m\u001b[38;5;250m \u001b[39m\u001b[38;5;21;01mstreamlit_app\u001b[39;00m\u001b[38;5;21;01m.\u001b[39;00m\u001b[38;5;21;01mutils\u001b[39;00m\u001b[38;5;250m \u001b[39m\u001b[38;5;28;01mimport\u001b[39;00m fetch_live_matches, parse_and_upsert_matches\n\u001b[0;32m      4\u001b[0m response \u001b[38;5;241m=\u001b[39m fetch_live_matches()\n\u001b[0;32m      5\u001b[0m data \u001b[38;5;241m=\u001b[39m response\u001b[38;5;241m.\u001b[39mjson()\n",
      "\u001b[1;31mImportError\u001b[0m: cannot import name 'fetch_live_matches' from 'streamlit_app.utils' (E:\\cricbuzz_livestats\\streamlit_app\\utils.py)"
     ]
    }
   ],
   "source": [
    "import requests\n",
    "from streamlit_app.utils import fetch_live_matches, parse_and_upsert_matches\n",
    "\n",
    "response = fetch_live_matches()\n",
    "data = response.json()\n",
    "parse_and_upsert_matches(data)\n"
   ]
  },
  {
   "cell_type": "code",
   "execution_count": null,
   "id": "d79c8fe9-ced5-4779-a654-6df428e9f43f",
   "metadata": {},
   "outputs": [],
   "source": []
  }
 ],
 "metadata": {
  "kernelspec": {
   "display_name": "Python 3 (ipykernel)",
   "language": "python",
   "name": "python3"
  },
  "language_info": {
   "codemirror_mode": {
    "name": "ipython",
    "version": 3
   },
   "file_extension": ".py",
   "mimetype": "text/x-python",
   "name": "python",
   "nbconvert_exporter": "python",
   "pygments_lexer": "ipython3",
   "version": "3.13.5"
  }
 },
 "nbformat": 4,
 "nbformat_minor": 5
}
